{
 "cells": [
  {
   "cell_type": "markdown",
   "id": "46a8a7a0",
   "metadata": {
    "deletable": false,
    "editable": false,
    "run_control": {
     "frozen": true
    }
   },
   "source": [
    "<hr style=\"height:.9px;border:none;color:#333;background-color:#333;\" />\n",
    "<hr style=\"height:.9px;border:none;color:#333;background-color:#333;\" />\n",
    "\n",
    "<h2>Homework - Feature Engineering</h2>\n",
    "<h4>DAT-5303 | Machine Learning</h4>\n",
    "\n",
    "<br>\n",
    "<hr style=\"height:.9px;border:none;color:#333;background-color:#333;\" />\n",
    "<hr style=\"height:.9px;border:none;color:#333;background-color:#333;\" />"
   ]
  },
  {
   "cell_type": "markdown",
   "id": "894d6d3d",
   "metadata": {},
   "source": [
    "Team: TEAM NAME"
   ]
  },
  {
   "cell_type": "markdown",
   "id": "a5eb8e6f",
   "metadata": {
    "deletable": false,
    "editable": false,
    "run_control": {
     "frozen": true
    }
   },
   "source": [
    "<hr style=\"height:.9px;border:none;color:#333;background-color:#333;\" />\n",
    "\n",
    "<h3>Step 1: Hypothesize on Features to Engineer</h3><br>\n",
    "<strong>a)</strong> Write a hypothesis on the effect you believe each new feature will have on the response variables (<em>Sale_Price</em> AND <em>log_Sale_Price</em>) in a markdown cell. (minimum 3 sentences per feature)\n",
    "<br><br>\n",
    "<strong>b)</strong> Give a practical, real world explanation as to why do you feel the new feature adds value. (minimum of 2 sentences per feature)"
   ]
  },
  {
   "cell_type": "markdown",
   "id": "d9644195",
   "metadata": {},
   "source": [
    "Write here.\n",
    "\n",
    "\n",
    "\n"
   ]
  },
  {
   "cell_type": "markdown",
   "id": "bedf81be",
   "metadata": {
    "deletable": false,
    "editable": false,
    "run_control": {
     "frozen": true
    }
   },
   "source": [
    "<hr style=\"height:.9px;border:none;color:#333;background-color:#333;\" />\n",
    "<h3>Step 2: Code the New Features</h3><br>\n",
    "Use the code cell below to develop the features you have hypothesized."
   ]
  },
  {
   "cell_type": "code",
   "execution_count": null,
   "id": "b153ad11",
   "metadata": {},
   "outputs": [],
   "source": [
    "## Feature 1 ##\n",
    "\n"
   ]
  },
  {
   "cell_type": "markdown",
   "id": "b412bf1d",
   "metadata": {
    "deletable": false,
    "editable": false,
    "run_control": {
     "frozen": true
    }
   },
   "source": [
    "<br>"
   ]
  },
  {
   "cell_type": "code",
   "execution_count": null,
   "id": "e6b147ec",
   "metadata": {},
   "outputs": [],
   "source": [
    "## Feature 2 ##\n",
    "\n"
   ]
  },
  {
   "cell_type": "markdown",
   "id": "2ac980b3",
   "metadata": {
    "deletable": false,
    "editable": false,
    "run_control": {
     "frozen": true
    }
   },
   "source": [
    "<br>"
   ]
  },
  {
   "cell_type": "code",
   "execution_count": null,
   "id": "ed960df4",
   "metadata": {},
   "outputs": [],
   "source": [
    "## Feature 3 ##\n",
    "\n"
   ]
  },
  {
   "cell_type": "markdown",
   "id": "f095cc33",
   "metadata": {
    "deletable": false,
    "editable": false,
    "run_control": {
     "frozen": true
    }
   },
   "source": [
    "<hr style=\"height:.9px;border:none;color:#333;background-color:#333;\" />\n",
    "<h3>Step 3: Check the Results</h3><br>\n",
    "Develop a correlation matrix or a heatmap to show the linear relationships between your five new features and the response variables (<em>Sale_Price</em> AND <em>log_Sale_Price</em>)."
   ]
  },
  {
   "cell_type": "code",
   "execution_count": null,
   "id": "69c3cdaa",
   "metadata": {},
   "outputs": [],
   "source": [
    "# code here\n",
    "\n",
    "\n",
    "\n"
   ]
  },
  {
   "cell_type": "markdown",
   "id": "984ec44b",
   "metadata": {
    "deletable": false,
    "editable": false,
    "run_control": {
     "frozen": true
    }
   },
   "source": [
    "<hr style=\"height:.9px;border:none;color:#333;background-color:#333;\" />\n",
    "<h3>Step 4: Explain the Results</h3><br>\n",
    "Did each engineered feature perform as expected? Why or why not? (minimum of 2 sentences per engineered feature)"
   ]
  },
  {
   "cell_type": "markdown",
   "id": "82fdb9fd",
   "metadata": {},
   "source": [
    "Write here.\n",
    "\n",
    "\n",
    "\n"
   ]
  }
 ],
 "metadata": {
  "kernelspec": {
   "display_name": "Python 3 (ipykernel)",
   "language": "python",
   "name": "python3"
  },
  "language_info": {
   "codemirror_mode": {
    "name": "ipython",
    "version": 3
   },
   "file_extension": ".py",
   "mimetype": "text/x-python",
   "name": "python",
   "nbconvert_exporter": "python",
   "pygments_lexer": "ipython3",
   "version": "3.11.5"
  },
  "toc": {
   "base_numbering": 1,
   "nav_menu": {},
   "number_sections": false,
   "sideBar": true,
   "skip_h1_title": false,
   "title_cell": "Table of Contents",
   "title_sidebar": "Contents",
   "toc_cell": false,
   "toc_position": {},
   "toc_section_display": true,
   "toc_window_display": false
  },
  "varInspector": {
   "cols": {
    "lenName": 16,
    "lenType": 16,
    "lenVar": 40
   },
   "kernels_config": {
    "python": {
     "delete_cmd_postfix": "",
     "delete_cmd_prefix": "del ",
     "library": "var_list.py",
     "varRefreshCmd": "print(var_dic_list())"
    },
    "r": {
     "delete_cmd_postfix": ") ",
     "delete_cmd_prefix": "rm(",
     "library": "var_list.r",
     "varRefreshCmd": "cat(var_dic_list()) "
    }
   },
   "types_to_exclude": [
    "module",
    "function",
    "builtin_function_or_method",
    "instance",
    "_Feature"
   ],
   "window_display": false
  }
 },
 "nbformat": 4,
 "nbformat_minor": 5
}
